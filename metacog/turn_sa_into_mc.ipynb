{
 "cells": [
  {
   "cell_type": "code",
   "execution_count": 14,
   "id": "642183e7",
   "metadata": {},
   "outputs": [],
   "source": [
    "import json\n",
    "with open(\"./shortanswer_ratings_cache.json\", 'r', encoding='utf-8') as f:\n",
    "    sa_cache = json.load(f)\n",
    "\n",
    "sa_qdict = {}\n",
    "for qaid, qdata in sa_cache.items():\n",
    "    qid = qdata['qid']\n",
    "    if qid not in sa_qdict:\n",
    "        sa_qdict[qid] = {\"question\": qdata['question'], \"correct_answer\": qdata['correct_answer']}"
   ]
  },
  {
   "cell_type": "code",
   "execution_count": 4,
   "id": "b1df0507",
   "metadata": {},
   "outputs": [],
   "source": [
    "with open(\"./compiled_results_sqa/grok-3-latest_phase1_compiled.json\", 'r', encoding='utf-8') as f:\n",
    "    claude_results = json.load(f)\n",
    "\n",
    "for qid in claude_results[\"results\"].keys():\n",
    "    if qid not in sa_qdict:\n",
    "        print(f\"Warning: {qid} not found in sa_qdict\")\n"
   ]
  },
  {
   "cell_type": "code",
   "execution_count": null,
   "id": "dfa37f0f",
   "metadata": {},
   "outputs": [
    {
     "name": "stdout",
     "output_type": "stream",
     "text": [
      "Provider: Anthropic\n",
      "Processing question 499, ID: sqa_test_2469\n",
      "In model_call, provider=Anthropic, attempt=1\n",
      "Processing question 500, ID: sqa_test_1573\n",
      "In model_call, provider=Anthropic, attempt=1\n"
     ]
    }
   ],
   "source": [
    "import re\n",
    "from base_game_class import BaseGameClass\n",
    "\n",
    "judge_model = \"claude-opus-4-20250514\"\n",
    "sa_to_mc_file = \"./SimpleMC.jsonl\"\n",
    "\n",
    "fout = open(sa_to_mc_file, 'a', encoding='utf-8')\n",
    "\n",
    "judge = BaseGameClass(subject_id=None, subject_name=judge_model, is_human_player=False, log_dir=None)\n",
    "sysprompt=\"\"\n",
    "prompt = \"\"\"I need your help turning a short-answer quiz into a multiple-choice quiz. I'm going to show you a question and its correct answer, and I want you to generate three distractors. \n",
    "Each distractor should be a plausible answer that is NOT the correct answer. Each should be the same \\\"type\\\" of answer as the correct answer (e.g., date, person name, number, etc), and follow the format of the correct answer.\n",
    "Output each distractor a separate line, and do not include any other text. Your entire response should be just the distractors, one per line.\n",
    "Here is the question and correct answer:\n",
    "\n",
    "Question: {question}\n",
    "\n",
    "Correct Answer: {correct_answer}\n",
    "\n",
    "Distractors:\n",
    "\"\"\"\n",
    "for ctr, (qid, qdata) in enumerate(sa_qdict.items()):\n",
    "    question = qdata['question']\n",
    "    correct_answer = qdata['correct_answer'].strip()\n",
    "    print(f\"Processing question {ctr+1}, ID: {qid}\")\n",
    "    \n",
    "    while True:\n",
    "        resp, _, _ = judge._get_llm_answer(options=None, q_text=prompt.format(question=question, correct_answer=correct_answer), message_history=[], keep_appending=False, setup_text=sysprompt, MAX_TOKENS=None, temp=1.0)\n",
    "        ans_list = re.split(r'\\n+', resp) if resp else []\n",
    "        ans_set = set([a.strip().upper() for a in ans_list] + [correct_answer.upper()]) \n",
    "        if len(ans_set) == 4 and all(ans.strip() for ans in ans_list):\n",
    "            break\n",
    "        else:\n",
    "            print(f\"Invalid response format for question {qid}. Retrying...\")\n",
    "    fout.write(json.dumps({\"qid\": qid, \"question\": question, \"correct_answer\": correct_answer, \"distractors\": ans_list}, ensure_ascii=False) + \"\\n\")\n",
    "    fout.flush()\n"
   ]
  },
  {
   "cell_type": "code",
   "execution_count": 27,
   "id": "1194fad5",
   "metadata": {},
   "outputs": [
    {
     "name": "stdout",
     "output_type": "stream",
     "text": [
      "Attempting to load SimpleMC...\n",
      "Dataset loaded successfully.\n",
      "Attempting to load SimpleQA (test split)...\n",
      "Dataset loaded successfully.\n",
      "Formatting 4326 questions...\n",
      "Successfully formatted 4326 unique questions from SimpleQA.\n",
      "Formatting 500 questions...\n",
      "Successfully formatted 500 unique questions from SimpleMC.\n"
     ]
    }
   ],
   "source": [
    "from load_and_format_datasets import load_and_format_dataset\n",
    "qs=load_and_format_dataset(\"SimpleMC\")\n"
   ]
  },
  {
   "cell_type": "code",
   "execution_count": 28,
   "id": "90ef3eb3",
   "metadata": {},
   "outputs": [
    {
     "name": "stdout",
     "output_type": "stream",
     "text": [
      "Found question at index 36: {'id': 'sqa_test_479', 'question': 'Which of the three Olympic fencing weapons was the last one to transition to using electrical equipment?', 'options': {'A': 'Sabre', 'B': 'Foil', 'C': 'Rapier', 'D': 'Épée'}, 'correct_answer': 'A', 'answer_type': 'Person', 'topic': 'Politics'}\n"
     ]
    }
   ],
   "source": [
    "for i, q in enumerate(qs):\n",
    "    if q['question'] == 'Which of the three Olympic fencing weapons was the last one to transition to using electrical equipment?':\n",
    "        print(f\"Found question at index {i}: {q}\")\n",
    "        break"
   ]
  },
  {
   "cell_type": "code",
   "execution_count": 30,
   "id": "629ade74",
   "metadata": {},
   "outputs": [
    {
     "name": "stdout",
     "output_type": "stream",
     "text": [
      "Attempting to load SimpleQA (test split)...\n",
      "Dataset loaded successfully.\n",
      "Formatting 4326 questions...\n",
      "Successfully formatted 4326 unique questions from SimpleQA.\n"
     ]
    }
   ],
   "source": [
    "sqa=load_and_format_dataset(\"SimpleQA\")"
   ]
  },
  {
   "cell_type": "code",
   "execution_count": 31,
   "id": "3f6e3d4d",
   "metadata": {},
   "outputs": [
    {
     "name": "stdout",
     "output_type": "stream",
     "text": [
      "Found question at index 1500: {'id': 'sqa_test_789', 'question': 'Which of the three Olympic fencing weapons was the last one to transition to using electrical equipment?', 'correct_answer': 'Sabre', 'answer_type': 'Other', 'topic': 'Sports'}\n"
     ]
    }
   ],
   "source": [
    "for i, q in enumerate(sqa):\n",
    "    if q['question'] == 'Which of the three Olympic fencing weapons was the last one to transition to using electrical equipment?':\n",
    "        print(f\"Found question at index {i}: {q}\")\n",
    "        break"
   ]
  },
  {
   "cell_type": "code",
   "execution_count": null,
   "id": "d504b08e",
   "metadata": {},
   "outputs": [],
   "source": [
    "import hashlib\n",
    "import os\n",
    "import json\n",
    "def text_to_id(text):\n",
    "    return \"sqa_test_\" + hashlib.sha256(text.encode('utf-8')).hexdigest()\n",
    "\n",
    "## replace every \"id\" field value in \"phase1_questions\" and \"phase2_questions\" with a new id based on the \"question\" text, and every \"question_id\" in \"results\" with a new id based on the \"question_text\" text\n",
    "for filename in os.listdir(\"delegate_game_logs\"):\n",
    "   if \"_Simple\" in filename and filename.endswith(\"_game_data.json\"):\n",
    "       fname = os.path.join(\"delegate_game_logs\", filename)\n",
    "       with open(fname, 'r', encoding='utf-8') as f:\n",
    "           game_data = json.load(f)\n",
    "       for q in game_data['phase1_questions']:\n",
    "           q['id'] = text_to_id(q['question'])\n",
    "       for q in game_data['phase2_questions']:\n",
    "           q['id'] = text_to_id(q['question'])\n",
    "       for q in game_data['results']:\n",
    "           q['question_id'] = text_to_id(q['question_text'])\n",
    "       with open(fname, 'w', encoding='utf-8') as f:\n",
    "           json.dump(game_data, f, ensure_ascii=False, indent=2)"
   ]
  },
  {
   "cell_type": "code",
   "execution_count": null,
   "id": "f006a6b3",
   "metadata": {},
   "outputs": [],
   "source": [
    "targ_dir = \"compiled_results_sqa\"\n",
    "for filename in os.listdir(targ_dir):\n",
    "   if not \"claude-3-5-sonnet-20241022_phase1_compiled.json\" in filename:\n",
    "       continue\n",
    "   if filename.endswith(\".json\"):\n",
    "    fname = os.path.join(targ_dir, filename)\n",
    "    with open(fname, 'r', encoding='utf-8') as f:\n",
    "        game_data = json.load(f)\n",
    "    \n",
    "    # Create new results dict with updated keys\n",
    "    new_results = {}\n",
    "    for old_id, result_data in game_data['results'].items():\n",
    "        new_id = text_to_id(result_data['question'])\n",
    "        new_results[new_id] = result_data\n",
    "    \n",
    "    # Replace the results dict\n",
    "    game_data['results'] = new_results\n",
    "    \n",
    "    with open(fname, 'w', encoding='utf-8') as f:\n",
    "        json.dump(game_data, f, ensure_ascii=False, indent=2)"
   ]
  },
  {
   "cell_type": "code",
   "execution_count": 41,
   "id": "3ec9026e",
   "metadata": {},
   "outputs": [
    {
     "name": "stdout",
     "output_type": "stream",
     "text": [
      "No duplicate IDs found in gemini-2.0-flash-001_phase1_compiled.json\n",
      "No duplicate IDs found in deepseek-chat_phase1_compiled.json\n",
      "No duplicate IDs found in gemini-2.5-flash-preview-04-17_phase1_compiled.json\n",
      "No duplicate IDs found in grok-3-latest_phase1_compiled.json\n",
      "No duplicate IDs found in gpt-4o-2024-08-06_phase1_compiled.json\n",
      "No duplicate IDs found in claude-sonnet-4-20250514_phase1_compiled.json\n",
      "No duplicate IDs found in claude-3-5-sonnet-20241022_phase1_compiled.json\n"
     ]
    }
   ],
   "source": [
    "## check for duplicate ids\n",
    "from collections import Counter\n",
    "targ_dir = \"compiled_results_sqa\"\n",
    "for filename in os.listdir(targ_dir):\n",
    "   if filename.endswith(\".json\"):\n",
    "    fname = os.path.join(targ_dir, filename)\n",
    "    with open(fname, 'r', encoding='utf-8') as f:\n",
    "        game_data = json.load(f)\n",
    "    id_counts = Counter(game_data['results'].keys())\n",
    "    duplicates = [id for id, count in id_counts.items() if count > 1]\n",
    "    if duplicates:\n",
    "        print(f\"Duplicate IDs found in {filename}: {duplicates}\")\n",
    "    else:\n",
    "        print(f\"No duplicate IDs found in {filename}\")"
   ]
  }
 ],
 "metadata": {
  "kernelspec": {
   "display_name": "venv312",
   "language": "python",
   "name": "python3"
  },
  "language_info": {
   "codemirror_mode": {
    "name": "ipython",
    "version": 3
   },
   "file_extension": ".py",
   "mimetype": "text/x-python",
   "name": "python",
   "nbconvert_exporter": "python",
   "pygments_lexer": "ipython3",
   "version": "3.12.10"
  }
 },
 "nbformat": 4,
 "nbformat_minor": 5
}
