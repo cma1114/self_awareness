{
 "cells": [
  {
   "cell_type": "code",
   "execution_count": 99,
   "id": "9f505fd5",
   "metadata": {},
   "outputs": [],
   "source": [
    "## Read in game file\n",
    "import json\n",
    "from statsmodels.stats.proportion import proportions_ztest\n",
    "from statsmodels.stats.weightstats import ztest\n",
    "import numpy as np\n",
    "\n",
    "game_file = \"./pass_game_logs/aop_game_gpt-4o-2024-08-06_1746036295_1746036295_game_data.json\"\n",
    "game_file = \"./pass_game_logs/aop_gpt-4o-2024-08-06_1746210571_game_data.json\"\n",
    "game_file = \"./pass_game_logs/aop_game_gpt-4o-2024-08-06_1746020711_1746020711_game_data.json\"\n",
    "game_file = \"./pass_game_logs/aop_gpt-4o-2024-08-06_1746285959_game_data.json\"\n",
    "\n",
    "with open(game_file, \"r\") as f:\n",
    "    results = json.load(f)\n",
    "\n",
    "phase1_results = results['phase1_results'] # capabilities test\n",
    "phase2_results = results['phase2_results'] # pass game"
   ]
  },
  {
   "cell_type": "code",
   "execution_count": 100,
   "id": "a43378b6",
   "metadata": {},
   "outputs": [
    {
     "name": "stdout",
     "output_type": "stream",
     "text": [
      "0.8394688406851903\n",
      "0.7219995354535058\n",
      "(np.float64(6.194051327953436), np.float64(5.863711773954539e-10))\n"
     ]
    }
   ],
   "source": [
    "## Are logprobs of chosen answer higher in correct trials than in incorrect ones in capabilities test (necessary for logprobs to be a useful signal to base pass decision on)\n",
    "corprobs, incorprobs = [], []\n",
    "for k, v in phase1_results.items():\n",
    "    subject_answer = v['subject_answer']\n",
    "    is_correct = v['is_correct']\n",
    "    prob = v['probs'][subject_answer]\n",
    "    if is_correct: corprobs.append(prob)\n",
    "    else: incorprobs.append(prob)\n",
    "\n",
    "print(sum(corprobs)/len(corprobs))\n",
    "print(sum(incorprobs)/len(incorprobs))\n",
    "\n",
    "print(ztest(corprobs, incorprobs,usevar='unequal'))\n"
   ]
  },
  {
   "cell_type": "code",
   "execution_count": null,
   "id": "32a80865",
   "metadata": {},
   "outputs": [
    {
     "name": "stdout",
     "output_type": "stream",
     "text": [
      "0.8344011625339245\n",
      "0.7250377899163389\n",
      "(np.float64(3.385823091335066), np.float64(0.000709651163497362))\n",
      "0.9227196398400888\n",
      "0.8193727987987833\n",
      "(np.float64(3.8824419196238713), np.float64(0.00010341272125914188))\n"
     ]
    }
   ],
   "source": [
    "## Are logprobs of chosen answer higher in correct trials than in incorrect ones in pass game when subject didn't pass (necessary for logprobs to be a useful signal to base pass decision on)\n",
    "corprobs, incorprobs = [], []\n",
    "normedcorprobs, normedincorprobs = [], []\n",
    "for k, v2 in phase2_results.items():\n",
    "    if v2['decision'] == \"pass\": continue\n",
    "    subject_answer = v2['subject_answer']\n",
    "    is_correct = v2['is_correct']\n",
    "    prob = v2['probs'][subject_answer]\n",
    "    if \"P\" in v2['probs']:\n",
    "        cumansprob = (sum(v2['probs'].values())-v2['probs'][\"P\"])\n",
    "    else:\n",
    "        cumansprob = sum(v2['probs'].values())\n",
    "    v2ansprobnormed = prob/cumansprob\n",
    "    if is_correct: \n",
    "        corprobs.append(prob)\n",
    "        normedcorprobs.append(v2ansprobnormed)\n",
    "    else: \n",
    "        incorprobs.append(prob)\n",
    "        normedincorprobs.append(v2ansprobnormed)\n",
    "\n",
    "print(sum(corprobs)/len(corprobs))\n",
    "print(sum(incorprobs)/len(incorprobs))\n",
    "print(ztest(corprobs, incorprobs,usevar='unequal'))\n",
    "\n",
    "print(sum(normedcorprobs)/len(corprobs))\n",
    "print(sum(normedincorprobs)/len(incorprobs))\n",
    "print(ztest(normedcorprobs, normedincorprobs,usevar='unequal'))\n"
   ]
  },
  {
   "cell_type": "code",
   "execution_count": 139,
   "id": "2433a357",
   "metadata": {},
   "outputs": [
    {
     "name": "stdout",
     "output_type": "stream",
     "text": [
      "PearsonRResult(statistic=np.float64(0.5216378975147078), pvalue=np.float64(1.4714103502350417e-32))\n",
      "0.8125\n",
      "0.9231603702673545\n",
      "0.7185672958691914\n",
      "(np.float64(-5.390676813623438), np.float64(7.019281306584458e-08))\n"
     ]
    }
   ],
   "source": [
    "# Are logprobs/top answers in Pass Game the same as in the Capabilities Test (if not then hard to believe that's the signal the model is using to make good choices)?\n",
    "from scipy.stats import pearsonr\n",
    "v1ansprobs, v2ansprobs = [], []\n",
    "sameansprobs, difansprobs = [], []\n",
    "for k, v2 in phase2_results.items():\n",
    "    v1 = phase1_results[k]\n",
    "    subject_answer = v1['subject_answer']\n",
    "    v1prob = v1['probs'][subject_answer]/sum(v1['probs'].values())\n",
    "    v2prob = v2['probs'][subject_answer]/(sum(v2['probs'].values())-(v2['probs'][\"P\"] if \"P\" in v2['probs'] else 0))\n",
    "    v1ansprobs.append(v1prob)\n",
    "    v2ansprobs.append(v2prob)\n",
    "    if v2['decision'] == \"answer\": \n",
    "        if v2['subject_answer']==v1['subject_answer']: sameansprobs.append(v1['probs'][subject_answer])\n",
    "        else: difansprobs.append(v1['probs'][subject_answer])\n",
    "\n",
    "print(pearsonr(v2ansprobs,v1ansprobs)) #correlation\n",
    "print(len(sameansprobs)/(len(sameansprobs)+len(difansprobs))) #same answer\n",
    "\n",
    "# when changes happen, is it because the model was less confident in the answer (as revealed by confidence in the capabilites test)?\n",
    "print(sum(sameansprobs)/len(sameansprobs))\n",
    "print(sum(difansprobs)/len(difansprobs))\n",
    "print(ztest(difansprobs, sameansprobs,usevar='unequal'))\n",
    "\n"
   ]
  },
  {
   "cell_type": "code",
   "execution_count": 140,
   "id": "c14afe2c",
   "metadata": {},
   "outputs": [
    {
     "name": "stdout",
     "output_type": "stream",
     "text": [
      "0.8847991688176989\n",
      "0.709416594551\n",
      "(np.float64(-9.814102061627173), np.float64(9.790573211838592e-23))\n",
      "0.8755676436149932\n",
      "0.6916899281270462\n",
      "(np.float64(-10.655107324751835), np.float64(1.6505417301399493e-26))\n"
     ]
    }
   ],
   "source": [
    "# Pass analysis\n",
    "ansprobs, passprobs = [], []\n",
    "ansv2normprobs, passv2normprobs = [], []\n",
    "for k, v2 in phase2_results.items():\n",
    "    v1 = phase1_results[k]\n",
    "    subject_answer = v1['subject_answer']\n",
    "    v2subject_answer_prob=[v for k,v in sorted(v2['probs'].items(), key = lambda i: i[1], reverse=True) if k!=\"P\"][0] #top non-P answer prob\n",
    "    v2ansprobnormed = v2subject_answer_prob/(sum(v2['probs'].values())-(v2['probs'][\"P\"] if \"P\" in v2['probs'] else 0))\n",
    "    if v2['decision'] == \"pass\": \n",
    "        passprobs.append(v1['probs'][subject_answer])\n",
    "        passv2normprobs.append(v2ansprobnormed)\n",
    "    else: \n",
    "        ansprobs.append(v1['probs'][subject_answer])\n",
    "        ansv2normprobs.append(v2ansprobnormed)\n",
    "\n",
    "# when passes happen, is it because the model was less confident in the answer (as revealed by confidence in the capabilites test)?\n",
    "print(sum(ansprobs)/len(ansprobs))\n",
    "print(sum(passprobs)/len(passprobs))\n",
    "print(ztest(passprobs, ansprobs,usevar='unequal'))\n",
    "\n",
    "# when passes happen, is it because the model was less confident in the answer (as revealed by relative confidence in the top answer in the pass game)?\n",
    "print(sum(ansv2normprobs)/len(ansv2normprobs))\n",
    "print(sum(passv2normprobs)/len(passv2normprobs))\n",
    "print(ztest(passv2normprobs, ansv2normprobs,usevar='unequal'))\n",
    "\n"
   ]
  },
  {
   "cell_type": "code",
   "execution_count": 133,
   "id": "84a5ca83",
   "metadata": {},
   "outputs": [
    {
     "name": "stdout",
     "output_type": "stream",
     "text": [
      "Capabilities Test Accuracy, Answer Count, Score: 42.7%, 447, -65\n",
      "Actual Pass Game Accuracy, Answer Count, Score: 54.4%, 160, 14\n",
      "Pass Game Accuracy, Score if Never Passed: 38.5%, -103\n",
      "Pass Game Accuracy, Score if Passed When Top Prob in Capabilities Test Was >0.98: 71.3%, 49\n",
      "Pass Game Accuracy, Score if Passed When Top Prob in Pass Game Was >0.98: 68.2%, 31\n",
      "Count where Top Prob >0.98: in Capablities Test=115, in Pass Game=85\n"
     ]
    }
   ],
   "source": [
    "# correct%/score if model based its choice on top logprob (in capabilites test or pass game) being above a threshold \n",
    "thresh = .98\n",
    "v1corcnt, v1incorcnt, actualcorcnt, actualincorcnt, wouldbecorcnt, wouldbeincorcnt, highv2probcorcnt, highv2probincorcnt, highv2probcnt, highv1probcorcnt, highv1probincorcnt, highv1probcnt = 0, 0, 0, 0, 0, 0, 0, 0, 0, 0, 0, 0\n",
    "for k, v1 in phase1_results.items():\n",
    "    v2 = phase2_results[k]\n",
    "    correct_answer = v2['question']['correct_answer']\n",
    "    subject_answer_v1 = v1['subject_answer']\n",
    "    if subject_answer_v1 == correct_answer: v1corcnt+=1\n",
    "    else: v1incorcnt+=1\n",
    "    prob_v1 = v1['probs'][subject_answer_v1]/sum(v1['probs'].values())\n",
    "    prob_v1_abs = v1['probs'][subject_answer_v1]\n",
    "\n",
    "    subject_answer_v2=[k for k,v in sorted(v2['probs'].items(), key = lambda i: i[1], reverse=True) if k!=\"P\"][0] #top non-P answer \n",
    "    prob_v2 = v2['probs'][subject_answer_v2]/(sum(v2['probs'].values())-(v2['probs'][\"P\"] if \"P\" in v2['probs'] else 0))\n",
    "    \n",
    "    if v2['decision'] == \"answer\":\n",
    "        if v2['subject_answer']==correct_answer: actualcorcnt+=1\n",
    "        else: actualincorcnt+=1\n",
    "    if subject_answer_v2==correct_answer: wouldbecorcnt += 1\n",
    "    else: wouldbeincorcnt += 1\n",
    "\n",
    "    if prob_v1_abs>thresh: \n",
    "        highv1probcnt += 1\n",
    "        if subject_answer_v1==correct_answer: highv1probcorcnt += 1\n",
    "        else: highv1probincorcnt+=1\n",
    "\n",
    "    if prob_v2>thresh: \n",
    "        highv2probcnt += 1\n",
    "        if subject_answer_v2==correct_answer: highv2probcorcnt += 1\n",
    "        else: highv2probincorcnt+=1\n",
    "\n",
    "print(f\"Capabilities Test Accuracy, Answer Count, Score: {v1corcnt/(v1corcnt+v1incorcnt)*100:.1f}%, {v1corcnt+v1incorcnt}, {v1corcnt-v1incorcnt}\")\n",
    "print(f\"Actual Pass Game Accuracy, Answer Count, Score: {actualcorcnt/(actualcorcnt+actualincorcnt)*100:.1f}%, {actualcorcnt+actualincorcnt}, {actualcorcnt-actualincorcnt}\")\n",
    "print(f\"Pass Game Accuracy, Score if Never Passed: {wouldbecorcnt/(wouldbecorcnt+wouldbeincorcnt)*100:.1f}%, {wouldbecorcnt-wouldbeincorcnt}\")\n",
    "print(f\"Pass Game Accuracy, Score if Passed When Top Prob in Capabilities Test Was >{thresh}: {highv1probcorcnt/highv1probcnt*100:.1f}%, {highv1probcorcnt-highv1probincorcnt}\")\n",
    "print(f\"Pass Game Accuracy, Score if Passed When Top Prob in Pass Game Was >{thresh}: {highv2probcorcnt/highv2probcnt*100:.1f}%, {highv2probcorcnt-highv2probincorcnt}\")\n",
    "print(f\"Count where Top Prob >{thresh}: in Capablities Test={highv1probcnt}, in Pass Game={highv2probcnt}\")\n"
   ]
  },
  {
   "cell_type": "code",
   "execution_count": 94,
   "id": "ec3ecca9",
   "metadata": {},
   "outputs": [
    {
     "data": {
      "image/png": "[encoded data removed]",
      "text/plain": [
       "<Figure size 640x480 with 1 Axes>"
      ]
     },
     "metadata": {},
     "output_type": "display_data"
    }
   ],
   "source": [
    "import matplotlib.pyplot as plt\n",
    "density=True\n",
    "plt.hist([passv2normprobs, ansv2normprobs], bins=100, range=(0, 1), label=['Pass', 'Answer'], alpha=0.6, density=density)\n",
    "\n",
    "# Add legend and labels\n",
    "plt.legend()\n",
    "plt.xlabel('Phase 2 Chosen Token Probability')\n",
    "plt.ylabel('Density' if density else 'Count')\n",
    "plt.title('Pass vs Answer')\n",
    "plt.show()\n"
   ]
  },
  {
   "cell_type": "code",
   "execution_count": 95,
   "id": "73135785",
   "metadata": {},
   "outputs": [
    {
     "data": {
      "image/png": "[encoded data removed]",
      "text/plain": [
       "<Figure size 640x480 with 1 Axes>"
      ]
     },
     "metadata": {},
     "output_type": "display_data"
    }
   ],
   "source": [
    "import matplotlib.pyplot as plt\n",
    "density=True\n",
    "plt.hist([passprobs, ansprobs], bins=100, range=(0, 1), label=['Pass', 'Answer'], alpha=0.6, density=density)\n",
    "\n",
    "# Add legend and labels\n",
    "plt.legend()\n",
    "plt.xlabel('Phase 1 Chosen Token Probability')\n",
    "plt.ylabel('Density' if density else 'Count')\n",
    "plt.title('Pass vs Answer')\n",
    "plt.show()"
   ]
  }
 ],
 "metadata": {
  "kernelspec": {
   "display_name": "venv312",
   "language": "python",
   "name": "python3"
  },
  "language_info": {
   "codemirror_mode": {
    "name": "ipython",
    "version": 3
   },
   "file_extension": ".py",
   "mimetype": "text/x-python",
   "name": "python",
   "nbconvert_exporter": "python",
   "pygments_lexer": "ipython3",
   "version": "3.12.10"
  }
 },
 "nbformat": 4,
 "nbformat_minor": 5
}
