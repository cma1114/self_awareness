{
 "cells": [
  {
   "cell_type": "code",
   "execution_count": null,
   "metadata": {},
   "outputs": [
    {
     "name": "stderr",
     "output_type": "stream",
     "text": [
      "Generating train split: 100%|██████████| 448/448 [00:00<00:00, 481.47 examples/s]\n"
     ]
    }
   ],
   "source": [
    "from datasets import load_dataset\n",
    "import os\n",
    "from dotenv import load_dotenv\n",
    "\n",
    "load_dotenv()\n",
    "hf_token = os.environ.get(\"HF_TOKEN\")\n",
    "ds = load_dataset(\"Idavidrein/gpqa\", \"gpqa_main\", token=hf_token)"
   ]
  },
  {
   "cell_type": "code",
   "execution_count": 18,
   "metadata": {},
   "outputs": [
    {
     "data": {
      "text/plain": [
       "['Pre-Revision Question',\n",
       " 'Pre-Revision Correct Answer',\n",
       " 'Pre-Revision Incorrect Answer 1',\n",
       " 'Pre-Revision Incorrect Answer 2',\n",
       " 'Pre-Revision Incorrect Answer 3',\n",
       " 'Pre-Revision Explanation',\n",
       " 'Self-reported question-writing time (minutes)',\n",
       " 'Question',\n",
       " 'Correct Answer',\n",
       " 'Incorrect Answer 1',\n",
       " 'Incorrect Answer 2',\n",
       " 'Incorrect Answer 3',\n",
       " 'Explanation',\n",
       " 'Revision Comments (from Question Writer)',\n",
       " 'Subdomain',\n",
       " \"Writer's Difficulty Estimate\",\n",
       " 'Extra Revised Question',\n",
       " 'Extra Revised Explanation',\n",
       " 'Extra Revised Correct Answer',\n",
       " 'Extra Revised Incorrect Answer 1',\n",
       " 'Extra Revised Incorrect Answer 2',\n",
       " 'Extra Revised Incorrect Answer 3',\n",
       " 'Non-Expert Validator Accuracy',\n",
       " 'Majority Non-Expert Vals Incorrect',\n",
       " 'Expert Validator Accuracy',\n",
       " 'Record ID',\n",
       " 'High-level domain',\n",
       " 'Question Writer',\n",
       " 'Feedback_EV_1',\n",
       " 'Validator Revision Suggestion_EV_1',\n",
       " 'Is First Validation_EV_1',\n",
       " 'Post hoc agreement_EV_1',\n",
       " 'Sufficient Expertise?_EV_1',\n",
       " 'Understand the question?_EV_1',\n",
       " 'Question Difficulty_EV_1',\n",
       " 'Validator Answered Correctly_EV_1',\n",
       " 'Self-reported time (minutes)_EV_1',\n",
       " 'Probability Correct_EV_1',\n",
       " 'Manual Correctness Adjustment_EV_1',\n",
       " 'Expert Validator_EV_1',\n",
       " 'Feedback_EV_2',\n",
       " 'Validator Revision Suggestion_EV_2',\n",
       " 'Is First Validation_EV_2',\n",
       " 'Post hoc agreement_EV_2',\n",
       " 'Sufficient Expertise?_EV_2',\n",
       " 'Understand the question?_EV_2',\n",
       " 'Question Difficulty_EV_2',\n",
       " 'Validator Answered Correctly_EV_2',\n",
       " 'Self-reported time (minutes)_EV_2',\n",
       " 'Probability Correct_EV_2',\n",
       " 'Manual Correctness Adjustment_EV_2',\n",
       " 'Expert Validator_EV_2',\n",
       " 'Feedback_NEV_1',\n",
       " 'Validator Answered Correctly_NEV_1',\n",
       " 'Explanation_NEV_1',\n",
       " 'Self-reported time (minutes)_NEV_1',\n",
       " 'Websites visited_NEV_1',\n",
       " 'Probability Correct_NEV_1',\n",
       " 'Manual Correctness Adjustment_NEV_1',\n",
       " 'Non-Expert Validator_NEV_1',\n",
       " 'Feedback_NEV_2',\n",
       " 'Validator Answered Correctly_NEV_2',\n",
       " 'Explanation_NEV_2',\n",
       " 'Self-reported time (minutes)_NEV_2',\n",
       " 'Websites visited_NEV_2',\n",
       " 'Probability Correct_NEV_2',\n",
       " 'Manual Correctness Adjustment_NEV_2',\n",
       " 'Non-Expert Validator_NEV_2',\n",
       " 'Feedback_NEV_3',\n",
       " 'Validator Answered Correctly_NEV_3',\n",
       " 'Explanation_NEV_3',\n",
       " 'Self-reported time (minutes)_NEV_3',\n",
       " 'Websites visited_NEV_3',\n",
       " 'Probability Correct_NEV_3',\n",
       " 'Manual Correctness Adjustment_NEV_3',\n",
       " 'Non-Expert Validator_NEV_3',\n",
       " 'Expert Validator Disagreement Category',\n",
       " 'Canary String']"
      ]
     },
     "execution_count": 18,
     "metadata": {},
     "output_type": "execute_result"
    }
   ],
   "source": [
    "ds['train'].column_names"
   ]
  },
  {
   "cell_type": "code",
   "execution_count": 17,
   "metadata": {},
   "outputs": [
    {
     "name": "stdout",
     "output_type": "stream",
     "text": [
      "Prompt 1:\n",
      "Question: \"Scientist aim to detect plasmid-mediated quinolone resistance from Klebsiella pneumoniae by targeting three plasmid-mediated quinolone resistance genes qnrA, qnrB, and qnrS.\n",
      "He used multiplex PCR using the following conditions 12.5 µl 2X PCR master mix, 2 µl of plasmid DNA extract, 1µl of equimolar primer mixture, and 9.5 µl nuclease-free water for a total of 25 µl reaction volume.\n",
      "DNA bands were visualized by putting the gel on a UV transilluminator and clear bands were only visualized having a size of 40 base pairs.\n",
      "\n",
      "Which of the following explains the previous scenario? \"\n",
      "\n",
      "A. It is impossible that quinolones have plasmid-mediated genes because quinolones have already a plasmid-curing effect.\n",
      "\n",
      "\n",
      "B. A necessary step to convert RNA to DNA is required\n",
      "\n",
      "\n",
      "C. Primer design and their concentrations need to be optimized\n",
      "\n",
      "\n",
      "D. Successful detection of qnrA, qnrB, and qnrS genes\n",
      "\n",
      "\n",
      "\n",
      "Correct answer: C\n",
      "--------------------------------------------------\n",
      "Prompt 2:\n",
      "Question: In an experiment, a researcher reacted ((2,2-dimethylbut-3-en-1-yl)oxy)benzene with hydrogen bromide. After some time, they checked the progress of the reaction using TLC. They found that the reactant spot had diminished, and two new spots were formed. Which of the following could be the structures of the products?\n",
      "\n",
      "A. (4-bromo-2,2-dimethylbutoxy)benzene and (3-bromo-2,2-dimethylbutoxy)benzene\n",
      "B. (4-bromo-2,2-dimethylbutoxy)benzene and ((2,3-dimethylbut-2-en-1-yl)oxy)benzene\n",
      "C. 2-(2,2-dimethylbutyl)phenol and 4-(2,2-dimethylbutyl)phenol\n",
      "D. 3,3,4-trimethylchromane and 3-isopropyl-3-methyl-2,3-dihydrobenzofuran\n",
      "\n",
      "Correct answer: D\n",
      "--------------------------------------------------\n",
      "Prompt 3:\n",
      "Question: Calculate the eigenvector of a quantum mechanical operator $\\vec{P}$ for a muon along an arbitrary direction $\\vec{n}$ lying in the x-z plane corresponding to the eigenvalue $+\\hbar/2$. Given the $X-$component, $P_x$ of the operator $P$ as $\\hbar/2$ times a 2 by 2 square matrix having elements in the first row as $(0 1)$, and that in the second row as $(1, 0)$. The $Y-$component, $P_y$ of the operator is given by the product of $\\hbar/2$ and a 2 by 2 square matrix having elements in the first row as $(0, -i)$, and that in the second row as $(i, 0)$. Finally, the $Z-$component, $P_z$ of the operator is given by the product of $\\hbar/2$  and another 2 by 2 square matrix having elements in the first row as $(1, 0)$, and that in the second row as $(0, -1)$.  What are the elements of the normalized eigenvector? \n",
      "\n",
      "\n",
      "A. (\\sqrt{2/3}\\hbar, \\sqrt{1/3}\\hbar)\n",
      "B. (\\sqrt{2/3}\\hbar \\cos(\\theta/2), \\sqrt{1/3}\\hbar \\sin (\\theta/2))\n",
      "C. (\\cos(\\theta/2), \\sin (\\theta/2))\n",
      "\n",
      "D. (\\cos(\\theta), e^{i\\phi}\\sin (\\theta)) \n",
      "\n",
      "Correct answer: C\n",
      "--------------------------------------------------\n",
      "Prompt 4:\n",
      "Question: The Pinacol-Pinacolone rearrangement is a chemical reaction involving the conversion of a pinacol molecule, containing two adjacent alcohol groups, into a pinacolone under acidic conditions. It proceeds through the protonation of one alcohol group, followed by a 1,2-hydride shift, leading to the formation of a ketone (pinacolone) and the rearrangement of the molecule's structure.\n",
      "What are the starting materials and products of the following Pinacol Pinacolone rearrangement reactions?\n",
      "A + H2SO4 ---> 2,2-di-p-tolylcyclohexan-1-one\n",
      "methyl 2,3-dihydroxy-2-(p-tolyl)butanoate + H2SO4 ---> B\n",
      "\n",
      "A. A = 1-(hydroxydi-p-tolylmethyl)cyclopentan-1-ol, B = methyl 2-methyl-3-oxo-2-(p-tolyl)propanoate\n",
      "B. A = 1-(hydroxydi-p-tolylmethyl)cyclohexan-1-ol, B = methyl 3-oxo-2-(p-tolyl)butanoate\n",
      "C. A = 1-(hydroxydi-p-tolylmethyl)cyclohexan-1-ol, B = methyl 2-methyl-3-oxo-2-(p-tolyl)propanoate\n",
      "D. A = 1-(hydroxydi-p-tolylmethyl)cyclopentan-1-ol, B = methyl 3-oxo-2-(p-tolyl)butanoate\n",
      "\n",
      "Correct answer: D\n",
      "--------------------------------------------------\n",
      "Prompt 5:\n",
      "Question: The |3,0,0\\rangle state in the standard notation |n,l,m\\rangle of the H -atom in the non-relativistic theory decays to the state |1,0,0\\rangle via two dipole transition. The transition route and the corresponding probability are (use latex),\n",
      "\n",
      "A. \\rangle\\rightarrow|2,1,0\\rangle\\rightarrow|1,0,0\\rangle  and \\frac{2}{3}\n",
      "B. |3,0,0\\rangle\\rightarrow|2,1,-1\\rangle\\rightarrow|1,0,0\\rangle and \\frac{1}{4}\n",
      "C. |3,0,0\\rangle\\rightarrow|2,1,1\\rangle\\rightarrow|1,0,0\\rangle\n",
      "and \\frac{1}{4}\n",
      "D. |3,0,0\\rangle\\rightarrow|2,1,0\\rangle\\rightarrow|1,0,0\\rangle and \\frac{1}{3}\n",
      "\n",
      "Correct answer: D\n",
      "--------------------------------------------------\n"
     ]
    }
   ],
   "source": [
    "import numpy as np\n",
    "import random\n",
    "\n",
    "# Set seed for reproducibility\n",
    "SEED = 42\n",
    "np.random.seed(SEED)\n",
    "random.seed(SEED)\n",
    "\n",
    "# Number of random samples to select\n",
    "N = 5\n",
    "\n",
    "filtered_indices = []\n",
    "for i in range(len(ds['train'])):\n",
    "    if ds['train'][i]['Record ID'] != \"recgCB0HSVt2IslDN\":\n",
    "        filtered_indices.append(i)\n",
    "\n",
    "# Get N random unique indices from the filtered dataset\n",
    "random_indices = random.sample(filtered_indices, N)\n",
    "\n",
    "# Lists to store prompts and correct answers\n",
    "prompts = []\n",
    "correct_answers = []\n",
    "\n",
    "# Create prompts with randomized answer assignments\n",
    "for idx in random_indices:\n",
    "    sample = ds['train'][idx]\n",
    "    \n",
    "    question = sample['Question']\n",
    "    \n",
    "    # Get all answer texts\n",
    "    answer_texts = [\n",
    "        sample['Correct Answer'],\n",
    "        sample['Incorrect Answer 1'],\n",
    "        sample['Incorrect Answer 2'],\n",
    "        sample['Incorrect Answer 3']\n",
    "    ]\n",
    "    \n",
    "    # Randomize the order of answers\n",
    "    random.shuffle(answer_texts)\n",
    "    \n",
    "    # Note which letter corresponds to the correct answer\n",
    "    correct_letter_index = answer_texts.index(sample['Correct Answer'])\n",
    "    correct_letter = chr(65 + correct_letter_index)  # Convert 0->A, 1->B, etc.\n",
    "    correct_answers.append(correct_letter)\n",
    "    \n",
    "    # Create the formatted prompt\n",
    "    prompt = f\"Question: {question}\\n\\n\"\n",
    "    for i, text in enumerate(answer_texts):\n",
    "        option_letter = chr(65 + i)  # A, B, C, D\n",
    "        prompt += f\"{option_letter}. {text}\\n\"\n",
    "    \n",
    "    prompts.append(prompt)\n",
    "\n",
    "# Display the prompts and their correct answers\n",
    "for i, (prompt, answer) in enumerate(zip(prompts, correct_answers)):\n",
    "    print(f\"Prompt {i+1}:\")\n",
    "    print(prompt)\n",
    "    print(f\"Correct answer: {answer}\")\n",
    "    print(\"-\" * 50)"
   ]
  },
  {
   "cell_type": "code",
   "execution_count": null,
   "metadata": {},
   "outputs": [
    {
     "name": "stdout",
     "output_type": "stream",
     "text": [
      "{'id': 'chatcmpl-7iLRHM4Uyy4KDbyJfBrPNV', 'object': 'chat.completion', 'created': 1745455109, 'model': 'meta-llama/Meta-Llama-3.1-405B-Instruct', 'choices': [{'index': 0, 'message': {'role': 'assistant', 'content': 'San Francisco! There are countless things to do in this vibrant and eclectic city. Here are some ideas to get you started:\\n\\n**Landmarks and Attractions:**\\n\\n1. **Golden Gate Bridge**: Take a walk or bike ride across this iconic bridge with stunning views of the city and the bay.\\n2. **Alcatraz Island**: Explore the former prison turned national park, and enjoy the ferry ride with great city views.\\n3. **Fisherman\\'s Wharf**: This bustling waterfront district offers seafood restaurants, street performers, and souvenir shops.\\n4. **Chinatown**: Experience the vibrant culture, food, and shopping of one of the largest Chinese communities outside of Asia.\\n5. **Lombard Street**: Known as the \"crookedest street in the world,\" this scenic street offers stunning views of the city.\\n\\n**Neighborhoods to Explore:**\\n\\n1. **Haight-Ashbury**: Visit the epicenter of the 1960s counterculture movement, with its vintage shops, cafes, and music venues.\\n2. **The Mission District**: Explore the vibrant street art, Mexican cuisine, and independent coffee shops of this eclectic neighborhood.\\n3. **North Beach**: San Francisco\\'s \"Little Italy\" offers delicious Italian food, lively nightlife, and beautiful views of the Bay Bridge.\\n4. **The Castro**: Learn about the history of the LGBTQ+ movement and enjoy the lively bars, clubs, and restaurants of this iconic neighborhood.\\n\\n**Outdoor Activities:**\\n\\n1. **Golden Gate Park**: This massive urban park offers hiking trails, lakes, gardens, and several museums, including the de Young Museum and the California Academy of Sciences.\\n2. **The Presidio**: A former military base turned national park, with hiking trails, scenic overlooks, and the Walt Disney Family Museum.\\n3. **Ocean Beach**: Enjoy the sunset, go surfing or beachcombing, and explore the nearby Cliff House and Seal Rocks.\\n4. **Mount Tamalpais**: Take a day trip to this nearby mountain, with stunning views of the Bay Area and hiking trails for all levels.\\n\\n**Food and Drink:**\\n\\n1. **Try a classic SF burrito**: Visit La Taqueria, El Farolito, or one of the many other excellent Mexican restaurants.\\n2. **Sample fresh seafood**: Enjoy fresh fish, oysters, and other seafood at Fisherman\\'s Wharf or one of the many excellent seafood restaurants.\\n3. **Explore the SF food truck scene**: Find a variety of cuisines, from Korean BBQ', 'tool_calls': []}, 'finish_reason': 'length', 'logprobs': None}], 'usage': {'prompt_tokens': 17, 'total_tokens': 529, 'completion_tokens': 512}}\n"
     ]
    }
   ],
   "source": [
    "import requests\n",
    "\n",
    "url = \"https://api.hyperbolic.xyz/v1/chat/completions\"\n",
    "headers = {\n",
    "    \"Content-Type\": \"application/json\",\n",
    "    \"Authorization\": \"Bearer <api-key>\"\n",
    "}\n",
    "data = {\n",
    "    \"messages\": [{\n",
    "      \"role\": \"user\",\n",
    "      \"content\": \"What can I do in SF?\"\n",
    "    }],\n",
    "    \"model\": \"meta-llama/Meta-Llama-3.1-405B-Instruct\",\n",
    "    \"max_tokens\": 512,\n",
    "    \"temperature\": 0.7,\n",
    "    \"top_p\": 0.9\n",
    "}\n",
    "  \n",
    "response = requests.post(url, headers=headers, json=data)\n",
    "print(response.json())"
   ]
  },
  {
   "cell_type": "code",
   "execution_count": null,
   "metadata": {},
   "outputs": [
    {
     "name": "stderr",
     "output_type": "stream",
     "text": [
      "/Users/christopherackerman/repos/self_awareness/venv/lib/python3.13/site-packages/tqdm/auto.py:21: TqdmWarning: IProgress not found. Please update jupyter and ipywidgets. See https://ipywidgets.readthedocs.io/en/stable/user_install.html\n",
      "  from .autonotebook import tqdm as notebook_tqdm\n",
      "Generating test split: 100%|██████████| 14042/14042 [00:00<00:00, 223104.32 examples/s]\n",
      "Generating validation split: 100%|██████████| 1531/1531 [00:00<00:00, 157042.78 examples/s]\n",
      "Generating dev split: 100%|██████████| 285/285 [00:00<00:00, 34828.29 examples/s]\n",
      "Generating auxiliary_train split: 100%|██████████| 99842/99842 [00:00<00:00, 203924.39 examples/s]\n"
     ]
    },
    {
     "data": {
      "text/plain": [
       "['question', 'subject', 'choices', 'answer']"
      ]
     },
     "execution_count": 6,
     "metadata": {},
     "output_type": "execute_result"
    }
   ],
   "source": [
    "from datasets import load_dataset\n",
    "\n",
    "ds = load_dataset(\"cais/mmlu\", \"all\")\n",
    "ds['auxiliary_train'].column_names\n",
    "ds['auxiliary_train'][0]"
   ]
  }
 ],
 "metadata": {
  "kernelspec": {
   "display_name": "venv",
   "language": "python",
   "name": "python3"
  },
  "language_info": {
   "codemirror_mode": {
    "name": "ipython",
    "version": 3
   },
   "file_extension": ".py",
   "mimetype": "text/x-python",
   "name": "python",
   "nbconvert_exporter": "python",
   "pygments_lexer": "ipython3",
   "version": "3.13.2"
  }
 },
 "nbformat": 4,
 "nbformat_minor": 2
}
